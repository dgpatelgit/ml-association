{
 "metadata": {
  "language_info": {
   "codemirror_mode": {
    "name": "ipython",
    "version": 3
   },
   "file_extension": ".py",
   "mimetype": "text/x-python",
   "name": "python",
   "nbconvert_exporter": "python",
   "pygments_lexer": "ipython3",
   "version": "3.6.8-final"
  },
  "orig_nbformat": 2,
  "kernelspec": {
   "name": "python3",
   "display_name": "Python 3",
   "language": "python"
  }
 },
 "nbformat": 4,
 "nbformat_minor": 2,
 "cells": [
  {
   "cell_type": "code",
   "execution_count": 1,
   "metadata": {},
   "outputs": [
    {
     "output_type": "stream",
     "name": "stdout",
     "text": [
      "Defaulting to user installation because normal site-packages is not writeable\n",
      "Requirement already satisfied: pandas in /home/dhpatel/.local/lib/python3.6/site-packages (1.1.5)\n",
      "Requirement already satisfied: pytz>=2017.2 in /home/dhpatel/.local/lib/python3.6/site-packages (from pandas) (2018.7)\n",
      "Requirement already satisfied: python-dateutil>=2.7.3 in /home/dhpatel/.local/lib/python3.6/site-packages (from pandas) (2.7.5)\n",
      "Requirement already satisfied: numpy>=1.15.4 in /home/dhpatel/.local/lib/python3.6/site-packages (from pandas) (1.17.4)\n",
      "Requirement already satisfied: six>=1.5 in /home/dhpatel/.local/lib/python3.6/site-packages (from python-dateutil>=2.7.3->pandas) (1.11.0)\n",
      "Defaulting to user installation because normal site-packages is not writeable\n",
      "Requirement already satisfied: mlxtend in /home/dhpatel/.local/lib/python3.6/site-packages (0.18.0)\n",
      "Requirement already satisfied: scipy>=1.2.1 in /home/dhpatel/.local/lib/python3.6/site-packages (from mlxtend) (1.5.2)\n",
      "Requirement already satisfied: setuptools in /usr/lib/python3.6/site-packages (from mlxtend) (39.2.0)\n",
      "Requirement already satisfied: scikit-learn>=0.20.3 in /home/dhpatel/.local/lib/python3.6/site-packages (from mlxtend) (0.23.1)\n",
      "Requirement already satisfied: matplotlib>=3.0.0 in /home/dhpatel/.local/lib/python3.6/site-packages (from mlxtend) (3.3.0)\n",
      "Requirement already satisfied: numpy>=1.16.2 in /home/dhpatel/.local/lib/python3.6/site-packages (from mlxtend) (1.17.4)\n",
      "Requirement already satisfied: joblib>=0.13.2 in /home/dhpatel/.local/lib/python3.6/site-packages (from mlxtend) (0.16.0)\n",
      "Requirement already satisfied: pandas>=0.24.2 in /home/dhpatel/.local/lib/python3.6/site-packages (from mlxtend) (1.1.5)\n",
      "Requirement already satisfied: cycler>=0.10 in /home/dhpatel/.local/lib/python3.6/site-packages (from matplotlib>=3.0.0->mlxtend) (0.10.0)\n",
      "Requirement already satisfied: pyparsing!=2.0.4,!=2.1.2,!=2.1.6,>=2.0.3 in /home/dhpatel/.local/lib/python3.6/site-packages (from matplotlib>=3.0.0->mlxtend) (2.4.7)\n",
      "Requirement already satisfied: python-dateutil>=2.1 in /home/dhpatel/.local/lib/python3.6/site-packages (from matplotlib>=3.0.0->mlxtend) (2.7.5)\n",
      "Requirement already satisfied: pillow>=6.2.0 in /home/dhpatel/.local/lib/python3.6/site-packages (from matplotlib>=3.0.0->mlxtend) (7.2.0)\n",
      "Requirement already satisfied: kiwisolver>=1.0.1 in /home/dhpatel/.local/lib/python3.6/site-packages (from matplotlib>=3.0.0->mlxtend) (1.2.0)\n",
      "Requirement already satisfied: six in /home/dhpatel/.local/lib/python3.6/site-packages (from cycler>=0.10->matplotlib>=3.0.0->mlxtend) (1.11.0)\n",
      "Requirement already satisfied: pytz>=2017.2 in /home/dhpatel/.local/lib/python3.6/site-packages (from pandas>=0.24.2->mlxtend) (2018.7)\n",
      "Requirement already satisfied: threadpoolctl>=2.0.0 in /home/dhpatel/.local/lib/python3.6/site-packages (from scikit-learn>=0.20.3->mlxtend) (2.1.0)\n"
     ]
    }
   ],
   "source": [
    "!pip install pandas\n",
    "!pip install mlxtend"
   ]
  },
  {
   "source": [
    "import pandas as pd\n",
    "from mlxtend.frequent_patterns import apriori\n",
    "from mlxtend.frequent_patterns import association_rules\n",
    "\n",
    "transactions = [\n",
    "    [1, (1, 2, 5)],\n",
    "    [2, (2, 4)],\n",
    "    [3, (2, 3)],\n",
    "    [4, (1, 2, 4)],\n",
    "    [5, (1, 3)],\n",
    "    [6, (2, 3)],\n",
    "    [7, (1, 3)],\n",
    "    [8, (1, 2, 3, 5)],\n",
    "    [9, (1, 2, 3)],\n",
    "]\n",
    "\n",
    "transactions"
   ],
   "cell_type": "code",
   "metadata": {},
   "execution_count": 20,
   "outputs": [
    {
     "output_type": "execute_result",
     "data": {
      "text/plain": [
       "[[1, (1, 2, 5)],\n",
       " [2, (2, 4)],\n",
       " [3, (2, 3)],\n",
       " [4, (1, 2, 4)],\n",
       " [5, (1, 3)],\n",
       " [6, (2, 3)],\n",
       " [7, (1, 3)],\n",
       " [8, (1, 2, 3, 5)],\n",
       " [9, (1, 2, 3)]]"
      ]
     },
     "metadata": {},
     "execution_count": 20
    }
   ]
  },
  {
   "cell_type": "code",
   "execution_count": 19,
   "metadata": {},
   "outputs": [
    {
     "output_type": "execute_result",
     "data": {
      "text/plain": [
       "[[1, 1, 1],\n",
       " [1, 2, 1],\n",
       " [1, 5, 1],\n",
       " [2, 2, 1],\n",
       " [2, 4, 1],\n",
       " [3, 2, 1],\n",
       " [3, 3, 1],\n",
       " [4, 1, 1],\n",
       " [4, 2, 1],\n",
       " [4, 4, 1],\n",
       " [5, 1, 1],\n",
       " [5, 3, 1],\n",
       " [6, 2, 1],\n",
       " [6, 3, 1],\n",
       " [7, 1, 1],\n",
       " [7, 3, 1],\n",
       " [8, 1, 1],\n",
       " [8, 2, 1],\n",
       " [8, 3, 1],\n",
       " [8, 5, 1],\n",
       " [9, 1, 1],\n",
       " [9, 2, 1],\n",
       " [9, 3, 1]]"
      ]
     },
     "metadata": {},
     "execution_count": 19
    }
   ],
   "source": [
    "# Convert tranactional data into individual rows\n",
    "normalizedTransactions = []\n",
    "for t in transactions:\n",
    "    for i in t[1]:\n",
    "        normalizedTransactions.append([t[0], i, 1])\n",
    "\n",
    "normalizedTransactions"
   ]
  },
  {
   "cell_type": "code",
   "execution_count": 15,
   "metadata": {},
   "outputs": [
    {
     "output_type": "execute_result",
     "data": {
      "text/plain": [
       "   transactionId  itemId  quantity\n",
       "0              1       1         1\n",
       "1              1       2         1\n",
       "2              1       5         1\n",
       "3              2       2         1\n",
       "4              2       4         1"
      ],
      "text/html": "<div>\n<style scoped>\n    .dataframe tbody tr th:only-of-type {\n        vertical-align: middle;\n    }\n\n    .dataframe tbody tr th {\n        vertical-align: top;\n    }\n\n    .dataframe thead th {\n        text-align: right;\n    }\n</style>\n<table border=\"1\" class=\"dataframe\">\n  <thead>\n    <tr style=\"text-align: right;\">\n      <th></th>\n      <th>transactionId</th>\n      <th>itemId</th>\n      <th>quantity</th>\n    </tr>\n  </thead>\n  <tbody>\n    <tr>\n      <th>0</th>\n      <td>1</td>\n      <td>1</td>\n      <td>1</td>\n    </tr>\n    <tr>\n      <th>1</th>\n      <td>1</td>\n      <td>2</td>\n      <td>1</td>\n    </tr>\n    <tr>\n      <th>2</th>\n      <td>1</td>\n      <td>5</td>\n      <td>1</td>\n    </tr>\n    <tr>\n      <th>3</th>\n      <td>2</td>\n      <td>2</td>\n      <td>1</td>\n    </tr>\n    <tr>\n      <th>4</th>\n      <td>2</td>\n      <td>4</td>\n      <td>1</td>\n    </tr>\n  </tbody>\n</table>\n</div>"
     },
     "metadata": {},
     "execution_count": 15
    }
   ],
   "source": [
    "df = pd.DataFrame(normalizedTransactions, columns=['transactionId', 'itemId', 'quantity'])\n",
    "#print(df)\n",
    "df.head()"
   ]
  },
  {
   "cell_type": "code",
   "execution_count": 14,
   "metadata": {},
   "outputs": [
    {
     "output_type": "execute_result",
     "data": {
      "text/plain": [
       "itemId           1    2    3    4    5\n",
       "transactionId                         \n",
       "1              1.0  1.0  0.0  0.0  1.0\n",
       "2              0.0  1.0  0.0  1.0  0.0\n",
       "3              0.0  1.0  1.0  0.0  0.0\n",
       "4              1.0  1.0  0.0  1.0  0.0\n",
       "5              1.0  0.0  1.0  0.0  0.0\n",
       "6              0.0  1.0  1.0  0.0  0.0\n",
       "7              1.0  0.0  1.0  0.0  0.0\n",
       "8              1.0  1.0  1.0  0.0  1.0\n",
       "9              1.0  1.0  1.0  0.0  0.0"
      ],
      "text/html": "<div>\n<style scoped>\n    .dataframe tbody tr th:only-of-type {\n        vertical-align: middle;\n    }\n\n    .dataframe tbody tr th {\n        vertical-align: top;\n    }\n\n    .dataframe thead th {\n        text-align: right;\n    }\n</style>\n<table border=\"1\" class=\"dataframe\">\n  <thead>\n    <tr style=\"text-align: right;\">\n      <th>itemId</th>\n      <th>1</th>\n      <th>2</th>\n      <th>3</th>\n      <th>4</th>\n      <th>5</th>\n    </tr>\n    <tr>\n      <th>transactionId</th>\n      <th></th>\n      <th></th>\n      <th></th>\n      <th></th>\n      <th></th>\n    </tr>\n  </thead>\n  <tbody>\n    <tr>\n      <th>1</th>\n      <td>1.0</td>\n      <td>1.0</td>\n      <td>0.0</td>\n      <td>0.0</td>\n      <td>1.0</td>\n    </tr>\n    <tr>\n      <th>2</th>\n      <td>0.0</td>\n      <td>1.0</td>\n      <td>0.0</td>\n      <td>1.0</td>\n      <td>0.0</td>\n    </tr>\n    <tr>\n      <th>3</th>\n      <td>0.0</td>\n      <td>1.0</td>\n      <td>1.0</td>\n      <td>0.0</td>\n      <td>0.0</td>\n    </tr>\n    <tr>\n      <th>4</th>\n      <td>1.0</td>\n      <td>1.0</td>\n      <td>0.0</td>\n      <td>1.0</td>\n      <td>0.0</td>\n    </tr>\n    <tr>\n      <th>5</th>\n      <td>1.0</td>\n      <td>0.0</td>\n      <td>1.0</td>\n      <td>0.0</td>\n      <td>0.0</td>\n    </tr>\n    <tr>\n      <th>6</th>\n      <td>0.0</td>\n      <td>1.0</td>\n      <td>1.0</td>\n      <td>0.0</td>\n      <td>0.0</td>\n    </tr>\n    <tr>\n      <th>7</th>\n      <td>1.0</td>\n      <td>0.0</td>\n      <td>1.0</td>\n      <td>0.0</td>\n      <td>0.0</td>\n    </tr>\n    <tr>\n      <th>8</th>\n      <td>1.0</td>\n      <td>1.0</td>\n      <td>1.0</td>\n      <td>0.0</td>\n      <td>1.0</td>\n    </tr>\n    <tr>\n      <th>9</th>\n      <td>1.0</td>\n      <td>1.0</td>\n      <td>1.0</td>\n      <td>0.0</td>\n      <td>0.0</td>\n    </tr>\n  </tbody>\n</table>\n</div>"
     },
     "metadata": {},
     "execution_count": 14
    }
   ],
   "source": [
    "# Build basket data\n",
    "basket = (df.groupby(['transactionId', 'itemId'])['quantity'].sum().unstack().reset_index().fillna(0).set_index('transactionId'))\n",
    "basket"
   ]
  },
  {
   "cell_type": "code",
   "execution_count": 31,
   "metadata": {},
   "outputs": [
    {
     "output_type": "execute_result",
     "data": {
      "text/plain": [
       "     support   itemsets\n",
       "0   0.666667        (1)\n",
       "1   0.777778        (2)\n",
       "2   0.666667        (3)\n",
       "3   0.222222        (4)\n",
       "4   0.222222        (5)\n",
       "5   0.444444     (1, 2)\n",
       "6   0.444444     (1, 3)\n",
       "7   0.222222     (1, 5)\n",
       "8   0.444444     (2, 3)\n",
       "9   0.222222     (2, 4)\n",
       "10  0.222222     (2, 5)\n",
       "11  0.222222  (1, 2, 3)\n",
       "12  0.222222  (1, 2, 5)"
      ],
      "text/html": "<div>\n<style scoped>\n    .dataframe tbody tr th:only-of-type {\n        vertical-align: middle;\n    }\n\n    .dataframe tbody tr th {\n        vertical-align: top;\n    }\n\n    .dataframe thead th {\n        text-align: right;\n    }\n</style>\n<table border=\"1\" class=\"dataframe\">\n  <thead>\n    <tr style=\"text-align: right;\">\n      <th></th>\n      <th>support</th>\n      <th>itemsets</th>\n    </tr>\n  </thead>\n  <tbody>\n    <tr>\n      <th>0</th>\n      <td>0.666667</td>\n      <td>(1)</td>\n    </tr>\n    <tr>\n      <th>1</th>\n      <td>0.777778</td>\n      <td>(2)</td>\n    </tr>\n    <tr>\n      <th>2</th>\n      <td>0.666667</td>\n      <td>(3)</td>\n    </tr>\n    <tr>\n      <th>3</th>\n      <td>0.222222</td>\n      <td>(4)</td>\n    </tr>\n    <tr>\n      <th>4</th>\n      <td>0.222222</td>\n      <td>(5)</td>\n    </tr>\n    <tr>\n      <th>5</th>\n      <td>0.444444</td>\n      <td>(1, 2)</td>\n    </tr>\n    <tr>\n      <th>6</th>\n      <td>0.444444</td>\n      <td>(1, 3)</td>\n    </tr>\n    <tr>\n      <th>7</th>\n      <td>0.222222</td>\n      <td>(1, 5)</td>\n    </tr>\n    <tr>\n      <th>8</th>\n      <td>0.444444</td>\n      <td>(2, 3)</td>\n    </tr>\n    <tr>\n      <th>9</th>\n      <td>0.222222</td>\n      <td>(2, 4)</td>\n    </tr>\n    <tr>\n      <th>10</th>\n      <td>0.222222</td>\n      <td>(2, 5)</td>\n    </tr>\n    <tr>\n      <th>11</th>\n      <td>0.222222</td>\n      <td>(1, 2, 3)</td>\n    </tr>\n    <tr>\n      <th>12</th>\n      <td>0.222222</td>\n      <td>(1, 2, 5)</td>\n    </tr>\n  </tbody>\n</table>\n</div>"
     },
     "metadata": {},
     "execution_count": 31
    }
   ],
   "source": [
    "# Build up the frequent items with minsup of 0.2\n",
    "frequent_itemsets = apriori(basket, min_support=0.2, use_colnames=True)\n",
    "frequent_itemsets"
   ]
  },
  {
   "cell_type": "code",
   "execution_count": 32,
   "metadata": {},
   "outputs": [
    {
     "output_type": "execute_result",
     "data": {
      "text/plain": [
       "   antecedents consequents  antecedent support  consequent support   support  \\\n",
       "0          (1)         (3)            0.666667            0.666667  0.444444   \n",
       "1          (3)         (1)            0.666667            0.666667  0.444444   \n",
       "2          (1)         (5)            0.666667            0.222222  0.222222   \n",
       "3          (5)         (1)            0.222222            0.666667  0.222222   \n",
       "4          (2)         (4)            0.777778            0.222222  0.222222   \n",
       "5          (4)         (2)            0.222222            0.777778  0.222222   \n",
       "6          (2)         (5)            0.777778            0.222222  0.222222   \n",
       "7          (5)         (2)            0.222222            0.777778  0.222222   \n",
       "8       (1, 2)         (5)            0.444444            0.222222  0.222222   \n",
       "9       (1, 5)         (2)            0.222222            0.777778  0.222222   \n",
       "10      (2, 5)         (1)            0.222222            0.666667  0.222222   \n",
       "11         (1)      (2, 5)            0.666667            0.222222  0.222222   \n",
       "12         (2)      (1, 5)            0.777778            0.222222  0.222222   \n",
       "13         (5)      (1, 2)            0.222222            0.444444  0.222222   \n",
       "\n",
       "    confidence      lift  leverage  conviction  \n",
       "0     0.666667  1.000000  0.000000    1.000000  \n",
       "1     0.666667  1.000000  0.000000    1.000000  \n",
       "2     0.333333  1.500000  0.074074    1.166667  \n",
       "3     1.000000  1.500000  0.074074         inf  \n",
       "4     0.285714  1.285714  0.049383    1.088889  \n",
       "5     1.000000  1.285714  0.049383         inf  \n",
       "6     0.285714  1.285714  0.049383    1.088889  \n",
       "7     1.000000  1.285714  0.049383         inf  \n",
       "8     0.500000  2.250000  0.123457    1.555556  \n",
       "9     1.000000  1.285714  0.049383         inf  \n",
       "10    1.000000  1.500000  0.074074         inf  \n",
       "11    0.333333  1.500000  0.074074    1.166667  \n",
       "12    0.285714  1.285714  0.049383    1.088889  \n",
       "13    1.000000  2.250000  0.123457         inf  "
      ],
      "text/html": "<div>\n<style scoped>\n    .dataframe tbody tr th:only-of-type {\n        vertical-align: middle;\n    }\n\n    .dataframe tbody tr th {\n        vertical-align: top;\n    }\n\n    .dataframe thead th {\n        text-align: right;\n    }\n</style>\n<table border=\"1\" class=\"dataframe\">\n  <thead>\n    <tr style=\"text-align: right;\">\n      <th></th>\n      <th>antecedents</th>\n      <th>consequents</th>\n      <th>antecedent support</th>\n      <th>consequent support</th>\n      <th>support</th>\n      <th>confidence</th>\n      <th>lift</th>\n      <th>leverage</th>\n      <th>conviction</th>\n    </tr>\n  </thead>\n  <tbody>\n    <tr>\n      <th>0</th>\n      <td>(1)</td>\n      <td>(3)</td>\n      <td>0.666667</td>\n      <td>0.666667</td>\n      <td>0.444444</td>\n      <td>0.666667</td>\n      <td>1.000000</td>\n      <td>0.000000</td>\n      <td>1.000000</td>\n    </tr>\n    <tr>\n      <th>1</th>\n      <td>(3)</td>\n      <td>(1)</td>\n      <td>0.666667</td>\n      <td>0.666667</td>\n      <td>0.444444</td>\n      <td>0.666667</td>\n      <td>1.000000</td>\n      <td>0.000000</td>\n      <td>1.000000</td>\n    </tr>\n    <tr>\n      <th>2</th>\n      <td>(1)</td>\n      <td>(5)</td>\n      <td>0.666667</td>\n      <td>0.222222</td>\n      <td>0.222222</td>\n      <td>0.333333</td>\n      <td>1.500000</td>\n      <td>0.074074</td>\n      <td>1.166667</td>\n    </tr>\n    <tr>\n      <th>3</th>\n      <td>(5)</td>\n      <td>(1)</td>\n      <td>0.222222</td>\n      <td>0.666667</td>\n      <td>0.222222</td>\n      <td>1.000000</td>\n      <td>1.500000</td>\n      <td>0.074074</td>\n      <td>inf</td>\n    </tr>\n    <tr>\n      <th>4</th>\n      <td>(2)</td>\n      <td>(4)</td>\n      <td>0.777778</td>\n      <td>0.222222</td>\n      <td>0.222222</td>\n      <td>0.285714</td>\n      <td>1.285714</td>\n      <td>0.049383</td>\n      <td>1.088889</td>\n    </tr>\n    <tr>\n      <th>5</th>\n      <td>(4)</td>\n      <td>(2)</td>\n      <td>0.222222</td>\n      <td>0.777778</td>\n      <td>0.222222</td>\n      <td>1.000000</td>\n      <td>1.285714</td>\n      <td>0.049383</td>\n      <td>inf</td>\n    </tr>\n    <tr>\n      <th>6</th>\n      <td>(2)</td>\n      <td>(5)</td>\n      <td>0.777778</td>\n      <td>0.222222</td>\n      <td>0.222222</td>\n      <td>0.285714</td>\n      <td>1.285714</td>\n      <td>0.049383</td>\n      <td>1.088889</td>\n    </tr>\n    <tr>\n      <th>7</th>\n      <td>(5)</td>\n      <td>(2)</td>\n      <td>0.222222</td>\n      <td>0.777778</td>\n      <td>0.222222</td>\n      <td>1.000000</td>\n      <td>1.285714</td>\n      <td>0.049383</td>\n      <td>inf</td>\n    </tr>\n    <tr>\n      <th>8</th>\n      <td>(1, 2)</td>\n      <td>(5)</td>\n      <td>0.444444</td>\n      <td>0.222222</td>\n      <td>0.222222</td>\n      <td>0.500000</td>\n      <td>2.250000</td>\n      <td>0.123457</td>\n      <td>1.555556</td>\n    </tr>\n    <tr>\n      <th>9</th>\n      <td>(1, 5)</td>\n      <td>(2)</td>\n      <td>0.222222</td>\n      <td>0.777778</td>\n      <td>0.222222</td>\n      <td>1.000000</td>\n      <td>1.285714</td>\n      <td>0.049383</td>\n      <td>inf</td>\n    </tr>\n    <tr>\n      <th>10</th>\n      <td>(2, 5)</td>\n      <td>(1)</td>\n      <td>0.222222</td>\n      <td>0.666667</td>\n      <td>0.222222</td>\n      <td>1.000000</td>\n      <td>1.500000</td>\n      <td>0.074074</td>\n      <td>inf</td>\n    </tr>\n    <tr>\n      <th>11</th>\n      <td>(1)</td>\n      <td>(2, 5)</td>\n      <td>0.666667</td>\n      <td>0.222222</td>\n      <td>0.222222</td>\n      <td>0.333333</td>\n      <td>1.500000</td>\n      <td>0.074074</td>\n      <td>1.166667</td>\n    </tr>\n    <tr>\n      <th>12</th>\n      <td>(2)</td>\n      <td>(1, 5)</td>\n      <td>0.777778</td>\n      <td>0.222222</td>\n      <td>0.222222</td>\n      <td>0.285714</td>\n      <td>1.285714</td>\n      <td>0.049383</td>\n      <td>1.088889</td>\n    </tr>\n    <tr>\n      <th>13</th>\n      <td>(5)</td>\n      <td>(1, 2)</td>\n      <td>0.222222</td>\n      <td>0.444444</td>\n      <td>0.222222</td>\n      <td>1.000000</td>\n      <td>2.250000</td>\n      <td>0.123457</td>\n      <td>inf</td>\n    </tr>\n  </tbody>\n</table>\n</div>"
     },
     "metadata": {},
     "execution_count": 32
    }
   ],
   "source": [
    "# Create the rules\n",
    "rules = association_rules(frequent_itemsets, metric=\"lift\", min_threshold=1)\n",
    "rules"
   ]
  },
  {
   "cell_type": "code",
   "execution_count": 33,
   "metadata": {},
   "outputs": [
    {
     "output_type": "execute_result",
     "data": {
      "text/plain": [
       "   antecedents consequents  antecedent support  consequent support   support  \\\n",
       "3          (5)         (1)            0.222222            0.666667  0.222222   \n",
       "5          (4)         (2)            0.222222            0.777778  0.222222   \n",
       "7          (5)         (2)            0.222222            0.777778  0.222222   \n",
       "9       (1, 5)         (2)            0.222222            0.777778  0.222222   \n",
       "10      (2, 5)         (1)            0.222222            0.666667  0.222222   \n",
       "13         (5)      (1, 2)            0.222222            0.444444  0.222222   \n",
       "\n",
       "    confidence      lift  leverage  conviction  \n",
       "3          1.0  1.500000  0.074074         inf  \n",
       "5          1.0  1.285714  0.049383         inf  \n",
       "7          1.0  1.285714  0.049383         inf  \n",
       "9          1.0  1.285714  0.049383         inf  \n",
       "10         1.0  1.500000  0.074074         inf  \n",
       "13         1.0  2.250000  0.123457         inf  "
      ],
      "text/html": "<div>\n<style scoped>\n    .dataframe tbody tr th:only-of-type {\n        vertical-align: middle;\n    }\n\n    .dataframe tbody tr th {\n        vertical-align: top;\n    }\n\n    .dataframe thead th {\n        text-align: right;\n    }\n</style>\n<table border=\"1\" class=\"dataframe\">\n  <thead>\n    <tr style=\"text-align: right;\">\n      <th></th>\n      <th>antecedents</th>\n      <th>consequents</th>\n      <th>antecedent support</th>\n      <th>consequent support</th>\n      <th>support</th>\n      <th>confidence</th>\n      <th>lift</th>\n      <th>leverage</th>\n      <th>conviction</th>\n    </tr>\n  </thead>\n  <tbody>\n    <tr>\n      <th>3</th>\n      <td>(5)</td>\n      <td>(1)</td>\n      <td>0.222222</td>\n      <td>0.666667</td>\n      <td>0.222222</td>\n      <td>1.0</td>\n      <td>1.500000</td>\n      <td>0.074074</td>\n      <td>inf</td>\n    </tr>\n    <tr>\n      <th>5</th>\n      <td>(4)</td>\n      <td>(2)</td>\n      <td>0.222222</td>\n      <td>0.777778</td>\n      <td>0.222222</td>\n      <td>1.0</td>\n      <td>1.285714</td>\n      <td>0.049383</td>\n      <td>inf</td>\n    </tr>\n    <tr>\n      <th>7</th>\n      <td>(5)</td>\n      <td>(2)</td>\n      <td>0.222222</td>\n      <td>0.777778</td>\n      <td>0.222222</td>\n      <td>1.0</td>\n      <td>1.285714</td>\n      <td>0.049383</td>\n      <td>inf</td>\n    </tr>\n    <tr>\n      <th>9</th>\n      <td>(1, 5)</td>\n      <td>(2)</td>\n      <td>0.222222</td>\n      <td>0.777778</td>\n      <td>0.222222</td>\n      <td>1.0</td>\n      <td>1.285714</td>\n      <td>0.049383</td>\n      <td>inf</td>\n    </tr>\n    <tr>\n      <th>10</th>\n      <td>(2, 5)</td>\n      <td>(1)</td>\n      <td>0.222222</td>\n      <td>0.666667</td>\n      <td>0.222222</td>\n      <td>1.0</td>\n      <td>1.500000</td>\n      <td>0.074074</td>\n      <td>inf</td>\n    </tr>\n    <tr>\n      <th>13</th>\n      <td>(5)</td>\n      <td>(1, 2)</td>\n      <td>0.222222</td>\n      <td>0.444444</td>\n      <td>0.222222</td>\n      <td>1.0</td>\n      <td>2.250000</td>\n      <td>0.123457</td>\n      <td>inf</td>\n    </tr>\n  </tbody>\n</table>\n</div>"
     },
     "metadata": {},
     "execution_count": 33
    }
   ],
   "source": [
    "# Filter rule for minconf and lift\n",
    "rules[ (rules['lift'] > 1) &\n",
    "       (rules['confidence'] >= 0.66) ]"
   ]
  },
  {
   "cell_type": "code",
   "execution_count": null,
   "metadata": {},
   "outputs": [],
   "source": []
  }
 ]
}